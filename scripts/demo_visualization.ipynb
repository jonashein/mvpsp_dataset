{
 "cells": [
  {
   "metadata": {},
   "cell_type": "code",
   "source": [
    "from pathlib import Path\n",
    "import numpy as np\n",
    "from mvpsp.dataset import MVPSP, MvpspMultiviewDataset, MvpspSingleviewDataset, MvpspSingleviewSequenceDataset\n",
    "from scripts.viz_utils import show_sample"
   ],
   "id": "initial_id",
   "outputs": [],
   "execution_count": null
  },
  {
   "metadata": {},
   "cell_type": "code",
   "source": [
    "dataset_root = Path(\"../datasets/mvpsp/\")\n",
    "assert dataset_root.exists(), f\"Please place (a link to) the dataset at {dataset_root.absolute()}.\""
   ],
   "id": "7c34f1b9eb7fd633",
   "outputs": [],
   "execution_count": null
  },
  {
   "cell_type": "markdown",
   "id": "794fa0a7e8aef289",
   "metadata": {},
   "source": [
    "## Load and Visualize Single Frames"
   ]
  },
  {
   "cell_type": "code",
   "id": "36bbc674841bbf51",
   "metadata": {},
   "source": [
    "# Load the dataset as single views, list the number of samples and select a random sample\n",
    "dataset = MvpspSingleviewDataset(dataset_root, is_test=True, include_subsets=MVPSP.TEST_SUBSET_WETLAB, include_rec_ids=[4])\n",
    "print(f\"{len(dataset)=}\")"
   ],
   "outputs": [],
   "execution_count": null
  },
  {
   "cell_type": "code",
   "id": "2b7d25e25632783b",
   "metadata": {},
   "source": [
    "# Draw a random sample and show the dictionary structure containing all metadata\n",
    "sample = np.random.choice(dataset)\n",
    "sample"
   ],
   "outputs": [],
   "execution_count": null
  },
  {
   "metadata": {},
   "cell_type": "code",
   "source": "show_sample(sample, y_labels={0: f\"{MVPSP.CAMERA_NAMES[sample['cam_id']]} Cam\"})",
   "id": "248e88fc9da5e504",
   "outputs": [],
   "execution_count": null
  },
  {
   "cell_type": "markdown",
   "id": "e5115b73f47ae115",
   "metadata": {},
   "source": [
    "## Load and Visualize Multi-View Frames"
   ]
  },
  {
   "metadata": {},
   "cell_type": "code",
   "source": [
    "# Load the dataset as synchronous views from multiple cameras, list the number of samples and select a random sample\n",
    "mv_dataset = MvpspMultiviewDataset(dataset_root, is_test=True, include_subsets=MVPSP.TEST_SUBSET_WETLAB, include_rec_ids=[4])\n",
    "print(f\"{len(mv_dataset)=}\")"
   ],
   "id": "243dd2a1fbdc5f4c",
   "outputs": [],
   "execution_count": null
  },
  {
   "metadata": {},
   "cell_type": "code",
   "source": [
    "mv_dataset.apply_filter(require_gaze={MVPSP.ANY_INSTANCE}, require_objs={MVPSP.ANY_INSTANCE})\n",
    "print(f\"{len(mv_dataset)=}\")"
   ],
   "id": "9c5b43c7cb69cbf2",
   "outputs": [],
   "execution_count": null
  },
  {
   "metadata": {},
   "cell_type": "code",
   "source": [
    "# Draw a random sample and show the dictionary structure containing all metadata\n",
    "sample = mv_dataset[np.random.randint(len(mv_dataset))]\n",
    "print(f\"{len(sample)=}\")\n",
    "sample"
   ],
   "id": "4995c58331894d29",
   "outputs": [],
   "execution_count": null
  },
  {
   "metadata": {},
   "cell_type": "code",
   "source": [
    "# Visualize the sample\n",
    "show_sample(sample, show_hands_gaze_in_all_views=True, y_labels={i: f\"{MVPSP.CAMERA_NAMES[v['cam_id']]} Cam\" for i, v in enumerate(sample)})"
   ],
   "id": "62a200545b94da98",
   "outputs": [],
   "execution_count": null
  },
  {
   "metadata": {},
   "cell_type": "markdown",
   "source": "## Load and Visualize Single-View Frame Sequences",
   "id": "c7b68d9620284905"
  },
  {
   "cell_type": "code",
   "id": "214a8191c23f16d3",
   "metadata": {},
   "source": [
    "# Load the dataset as frame sequences of given length, list the number of samples and select a random sample\n",
    "seq_dataset = MvpspSingleviewSequenceDataset(dataset_root, is_test=True, include_subsets=MVPSP.TEST_SUBSET_WETLAB, include_rec_ids=[4], sequence_length=5, min_frame_gap_us=1e6, max_frame_gap_us=1e6+50e3)\n",
    "print(f\"{len(seq_dataset)=}\")"
   ],
   "outputs": [],
   "execution_count": null
  },
  {
   "cell_type": "code",
   "id": "c084578161de80fa",
   "metadata": {},
   "source": [
    "# Draw a random sample and show the dictionary structure containing all metadata\n",
    "sample = seq_dataset[np.random.randint(len(seq_dataset))]\n",
    "print(f\"{len(sample)=}\")\n",
    "sample"
   ],
   "outputs": [],
   "execution_count": null
  },
  {
   "cell_type": "code",
   "id": "ba6b7af26a47223f",
   "metadata": {},
   "source": [
    "# Visualize the sample\n",
    "show_sample(sample)"
   ],
   "outputs": [],
   "execution_count": null
  },
  {
   "metadata": {},
   "cell_type": "code",
   "source": "",
   "id": "da594abf2b2bd7e7",
   "outputs": [],
   "execution_count": null
  }
 ],
 "metadata": {
  "kernelspec": {
   "display_name": "Python 3 (ipykernel)",
   "language": "python",
   "name": "python3"
  },
  "language_info": {
   "codemirror_mode": {
    "name": "ipython",
    "version": 3
   },
   "file_extension": ".py",
   "mimetype": "text/x-python",
   "name": "python",
   "nbconvert_exporter": "python",
   "pygments_lexer": "ipython3",
   "version": "3.8.19"
  }
 },
 "nbformat": 4,
 "nbformat_minor": 5
}
